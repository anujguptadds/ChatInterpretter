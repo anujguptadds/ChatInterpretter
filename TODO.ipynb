{
 "cells": [
  {
   "cell_type": "code",
   "execution_count": 1,
   "metadata": {},
   "outputs": [
    {
     "name": "stderr",
     "output_type": "stream",
     "text": [
      "[nltk_data] Downloading package punkt to C:\\Users\\ANUJ\n",
      "[nltk_data]     GUPTA\\AppData\\Roaming\\nltk_data...\n",
      "[nltk_data]   Package punkt is already up-to-date!\n",
      "[nltk_data] Downloading package averaged_perceptron_tagger to\n",
      "[nltk_data]     C:\\Users\\ANUJ GUPTA\\AppData\\Roaming\\nltk_data...\n",
      "[nltk_data]   Package averaged_perceptron_tagger is already up-to-\n",
      "[nltk_data]       date!\n"
     ]
    },
    {
     "data": {
      "text/plain": [
       "True"
      ]
     },
     "execution_count": 1,
     "metadata": {},
     "output_type": "execute_result"
    }
   ],
   "source": [
    "import nltk\n",
    "from nltk import pos_tag, word_tokenize\n",
    "from nltk.corpus import stopwords\n",
    "from nltk.tag import RegexpTagger\n",
    "import re\n",
    "nltk.download('punkt')\n",
    "nltk.download('averaged_perceptron_tagger')"
   ]
  },
  {
   "cell_type": "code",
   "execution_count": 2,
   "metadata": {},
   "outputs": [],
   "source": [
    "tag1 = RegexpTagger([              \n",
    "(r'.*today$', 'CD'),\n",
    "(r'.*tonight$', 'CD'),\n",
    "(r'.*tomorrow$', 'CD'),\n",
    "(r'.*Monday$', 'CD'),\n",
    "(r'.*Tuesday$', 'CD'),\n",
    "(r'.*Wednesday$', 'CD'),\n",
    "(r'.*Thursday$', 'CD'),\n",
    "(r'.*Friday$', 'CD'),\n",
    "(r'.*Saturday$', 'CD'),\n",
    "(r'.*Sunday$', 'CD'),\n",
    "(r'.*morning$', 'CD'),\n",
    "(r'.*afternoon$', 'CD'),\n",
    "(r'.*evening$', 'CD'),\n",
    "(r'.*night$', 'CD'),\n",
    "(r'.*monday$', 'CD'),\n",
    "(r'.*tuesday$', 'CD'),\n",
    "(r'.*wednesday$', 'CD'),\n",
    "(r'.*thursday$', 'CD'),\n",
    "(r'.*friday$', 'CD'),\n",
    "(r'.*saturday$', 'CD'),\n",
    "(r'.*sunday$', 'CD'),\n",
    "(r'.*ll$','MD')\n",
    "])"
   ]
  },
  {
   "cell_type": "code",
   "execution_count": 3,
   "metadata": {},
   "outputs": [],
   "source": [
    "def tg(sent):\n",
    "    ne=list()\n",
    "    sent=nltk.word_tokenize(sent)\n",
    "    for i in sent:\n",
    "        if tag1.tag(nltk.word_tokenize(i))[0][1]==None:\n",
    "            ne.append(tuple([nltk.pos_tag(nltk.word_tokenize(i))[0][0],nltk.pos_tag(nltk.word_tokenize(i))[0][1]]))\n",
    "        else:\n",
    "            ne.append(tuple([tag1.tag(nltk.word_tokenize(i))[0][0],tag1.tag(nltk.word_tokenize(i))[0][1]]))\n",
    "    return ne"
   ]
  },
  {
   "cell_type": "code",
   "execution_count": 4,
   "metadata": {},
   "outputs": [],
   "source": [
    "def extract_NN(sent):\n",
    "    grammar = \"\"\"\n",
    "    NP:{<.*>*<MD|PDT|VB|VBG|NN.*|PRP.*><.*>*<IN><.*>*<CD><.*>*}\n",
    "       {<IN><.*>*<CD><.*>*<MD|PDT|VB|VBG|NN.*|PRP.*><.*>*}\n",
    "    \"\"\"\n",
    "    chunker = nltk.RegexpParser(grammar)\n",
    "    ne = set()\n",
    "    chunk = chunker.parse(tg(sent))\n",
    "    for tree in chunk.subtrees(filter=lambda t: t.label() == 'NP'):\n",
    "        ne.add(' '.join([child[0] for child in tree.leaves()]))\n",
    "    if len(ne)>0:\n",
    "        print(ne)\n",
    "    return ne"
   ]
  },
  {
   "cell_type": "code",
   "execution_count": 17,
   "metadata": {},
   "outputs": [],
   "source": [
    "text=\"\"\"\n",
    "Hey driver, please be early tomorrow, I have my flight at 6 in the morning. \n",
    "\"\"\""
   ]
  },
  {
   "cell_type": "code",
   "execution_count": 18,
   "metadata": {},
   "outputs": [],
   "source": [
    "sentences = re.split(r' *[\\.\\?!,][\\'\"\\)\\]]* *', text)"
   ]
  },
  {
   "cell_type": "code",
   "execution_count": 19,
   "metadata": {},
   "outputs": [
    {
     "name": "stdout",
     "output_type": "stream",
     "text": [
      "{'I have my flight at 6 in the morning'}\n",
      "Warning: parsing empty text\n"
     ]
    }
   ],
   "source": [
    "for stuff in sentences:\n",
    "    extract_NN(stuff)"
   ]
  },
  {
   "cell_type": "code",
   "execution_count": 20,
   "metadata": {},
   "outputs": [
    {
     "name": "stdout",
     "output_type": "stream",
     "text": [
      "[('Hey', 'NN'), ('driver', 'NN')]\n",
      "[('please', 'NN'), ('be', 'VB'), ('early', 'RB'), ('tomorrow', 'CD')]\n",
      "[('I', 'PRP'), ('have', 'VB'), ('my', 'PRP$'), ('flight', 'NN'), ('at', 'IN'), ('6', 'CD'), ('in', 'IN'), ('the', 'DT'), ('morning', 'CD')]\n",
      "[]\n"
     ]
    }
   ],
   "source": [
    "#RESULTS OF THE CUSTOM TAGGER\n",
    "for stuff in sentences:\n",
    "    print(tg(stuff))"
   ]
  },
  {
   "cell_type": "code",
   "execution_count": null,
   "metadata": {},
   "outputs": [],
   "source": []
  }
 ],
 "metadata": {
  "kernelspec": {
   "display_name": "Python 3",
   "language": "python",
   "name": "python3"
  },
  "language_info": {
   "codemirror_mode": {
    "name": "ipython",
    "version": 3
   },
   "file_extension": ".py",
   "mimetype": "text/x-python",
   "name": "python",
   "nbconvert_exporter": "python",
   "pygments_lexer": "ipython3",
   "version": "3.7.3"
  }
 },
 "nbformat": 4,
 "nbformat_minor": 2
}
